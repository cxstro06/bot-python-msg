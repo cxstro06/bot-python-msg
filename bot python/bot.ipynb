{
 "cells": [
  {
   "cell_type": "code",
   "execution_count": 1,
   "metadata": {},
   "outputs": [
    {
     "data": {
      "text/html": [
       "<div>\n",
       "<style scoped>\n",
       "    .dataframe tbody tr th:only-of-type {\n",
       "        vertical-align: middle;\n",
       "    }\n",
       "\n",
       "    .dataframe tbody tr th {\n",
       "        vertical-align: top;\n",
       "    }\n",
       "\n",
       "    .dataframe thead th {\n",
       "        text-align: right;\n",
       "    }\n",
       "</style>\n",
       "<table border=\"1\" class=\"dataframe\">\n",
       "  <thead>\n",
       "    <tr style=\"text-align: right;\">\n",
       "      <th></th>\n",
       "      <th>numero</th>\n",
       "      <th>nome</th>\n",
       "      <th>mensagen</th>\n",
       "    </tr>\n",
       "  </thead>\n",
       "  <tbody>\n",
       "    <tr>\n",
       "      <th>0</th>\n",
       "      <td>5541995906737</td>\n",
       "      <td>koty</td>\n",
       "      <td>teste mensagem</td>\n",
       "    </tr>\n",
       "    <tr>\n",
       "      <th>1</th>\n",
       "      <td>5541988759948</td>\n",
       "      <td>matheus</td>\n",
       "      <td>teste mensagem</td>\n",
       "    </tr>\n",
       "    <tr>\n",
       "      <th>2</th>\n",
       "      <td>554192726074</td>\n",
       "      <td>joao</td>\n",
       "      <td>teste mensagem</td>\n",
       "    </tr>\n",
       "    <tr>\n",
       "      <th>3</th>\n",
       "      <td>5541984008908</td>\n",
       "      <td>bella</td>\n",
       "      <td>teste mensagem</td>\n",
       "    </tr>\n",
       "  </tbody>\n",
       "</table>\n",
       "</div>"
      ],
      "text/plain": [
       "          numero     nome        mensagen\n",
       "0  5541995906737     koty  teste mensagem\n",
       "1  5541988759948  matheus  teste mensagem\n",
       "2   554192726074     joao  teste mensagem\n",
       "3  5541984008908    bella  teste mensagem"
      ]
     },
     "metadata": {},
     "output_type": "display_data"
    }
   ],
   "source": [
    "\n",
    "import pandas as pd #importar a biblioteca pandas\n",
    "contatos_df = pd.read_excel(\"ex.xlsx\") #definir contatos_df como tabela\n",
    "display(contatos_df) #mostrar tabela"
   ]
  },
  {
   "cell_type": "code",
   "execution_count": 33,
   "metadata": {},
   "outputs": [
    {
     "ename": "NoSuchElementException",
     "evalue": "Message: no such element: Unable to locate element: {\"method\":\"xpath\",\"selector\":\"/html/body/div[1]/div/div/div[5]/div/footer/div[1]/div/span[2]/div/div[2]/div[1]/div/div/p/span\"}\n  (Session info: chrome=111.0.5563.147)\nStacktrace:\nBacktrace:\n\t(No symbol) [0x006DDCE3]\n\t(No symbol) [0x006739D1]\n\t(No symbol) [0x00584DA8]\n\t(No symbol) [0x005B019F]\n\t(No symbol) [0x005B03AB]\n\t(No symbol) [0x005DEE62]\n\t(No symbol) [0x005CAF14]\n\t(No symbol) [0x005DD57C]\n\t(No symbol) [0x005CACC6]\n\t(No symbol) [0x005A6F68]\n\t(No symbol) [0x005A80CD]\n\tGetHandleVerifier [0x00953832+2506274]\n\tGetHandleVerifier [0x00989794+2727300]\n\tGetHandleVerifier [0x0098E36C+2746716]\n\tGetHandleVerifier [0x00786690+617600]\n\t(No symbol) [0x0067C712]\n\t(No symbol) [0x00681FF8]\n\t(No symbol) [0x006820DB]\n\t(No symbol) [0x0068C63B]\n\tBaseThreadInitThunk [0x76346BD9+25]\n\tRtlGetFullPathName_UEx [0x77778FD2+1218]\n\tRtlGetFullPathName_UEx [0x77778F9D+1165]\n",
     "output_type": "error",
     "traceback": [
      "\u001b[1;31m---------------------------------------------------------------------------\u001b[0m",
      "\u001b[1;31mNoSuchElementException\u001b[0m                    Traceback (most recent call last)",
      "Cell \u001b[1;32mIn[33], line 26\u001b[0m\n\u001b[0;32m     24\u001b[0m \u001b[39mwhile\u001b[39;00m \u001b[39mlen\u001b[39m(navegador\u001b[39m.\u001b[39mfind_elements(By\u001b[39m.\u001b[39mID, \u001b[39m'\u001b[39m\u001b[39mside\u001b[39m\u001b[39m'\u001b[39m)) \u001b[39m<\u001b[39m \u001b[39m1\u001b[39m:\n\u001b[0;32m     25\u001b[0m     time\u001b[39m.\u001b[39msleep(\u001b[39m1\u001b[39m) \n\u001b[1;32m---> 26\u001b[0m navegador\u001b[39m.\u001b[39;49mfind_element(By\u001b[39m.\u001b[39;49mXPATH, \u001b[39m'\u001b[39;49m\u001b[39m/html/body/div[1]/div/div/div[5]/div/footer/div[1]/div/span[2]/div/div[2]/div[1]/div/div/p/span\u001b[39;49m\u001b[39m'\u001b[39;49m)\u001b[39m.\u001b[39msend_keys(Keys\u001b[39m.\u001b[39mENTER)\n\u001b[0;32m     27\u001b[0m time\u001b[39m.\u001b[39msleep(\u001b[39m10\u001b[39m)\n",
      "File \u001b[1;32m~\\AppData\\Local\\Packages\\PythonSoftwareFoundation.Python.3.10_qbz5n2kfra8p0\\LocalCache\\local-packages\\Python310\\site-packages\\selenium\\webdriver\\remote\\webdriver.py:831\u001b[0m, in \u001b[0;36mWebDriver.find_element\u001b[1;34m(self, by, value)\u001b[0m\n\u001b[0;32m    828\u001b[0m     by \u001b[39m=\u001b[39m By\u001b[39m.\u001b[39mCSS_SELECTOR\n\u001b[0;32m    829\u001b[0m     value \u001b[39m=\u001b[39m \u001b[39mf\u001b[39m\u001b[39m'\u001b[39m\u001b[39m[name=\u001b[39m\u001b[39m\"\u001b[39m\u001b[39m{\u001b[39;00mvalue\u001b[39m}\u001b[39;00m\u001b[39m\"\u001b[39m\u001b[39m]\u001b[39m\u001b[39m'\u001b[39m\n\u001b[1;32m--> 831\u001b[0m \u001b[39mreturn\u001b[39;00m \u001b[39mself\u001b[39;49m\u001b[39m.\u001b[39;49mexecute(Command\u001b[39m.\u001b[39;49mFIND_ELEMENT, {\u001b[39m\"\u001b[39;49m\u001b[39musing\u001b[39;49m\u001b[39m\"\u001b[39;49m: by, \u001b[39m\"\u001b[39;49m\u001b[39mvalue\u001b[39;49m\u001b[39m\"\u001b[39;49m: value})[\u001b[39m\"\u001b[39m\u001b[39mvalue\u001b[39m\u001b[39m\"\u001b[39m]\n",
      "File \u001b[1;32m~\\AppData\\Local\\Packages\\PythonSoftwareFoundation.Python.3.10_qbz5n2kfra8p0\\LocalCache\\local-packages\\Python310\\site-packages\\selenium\\webdriver\\remote\\webdriver.py:440\u001b[0m, in \u001b[0;36mWebDriver.execute\u001b[1;34m(self, driver_command, params)\u001b[0m\n\u001b[0;32m    438\u001b[0m response \u001b[39m=\u001b[39m \u001b[39mself\u001b[39m\u001b[39m.\u001b[39mcommand_executor\u001b[39m.\u001b[39mexecute(driver_command, params)\n\u001b[0;32m    439\u001b[0m \u001b[39mif\u001b[39;00m response:\n\u001b[1;32m--> 440\u001b[0m     \u001b[39mself\u001b[39;49m\u001b[39m.\u001b[39;49merror_handler\u001b[39m.\u001b[39;49mcheck_response(response)\n\u001b[0;32m    441\u001b[0m     response[\u001b[39m\"\u001b[39m\u001b[39mvalue\u001b[39m\u001b[39m\"\u001b[39m] \u001b[39m=\u001b[39m \u001b[39mself\u001b[39m\u001b[39m.\u001b[39m_unwrap_value(response\u001b[39m.\u001b[39mget(\u001b[39m\"\u001b[39m\u001b[39mvalue\u001b[39m\u001b[39m\"\u001b[39m, \u001b[39mNone\u001b[39;00m))\n\u001b[0;32m    442\u001b[0m     \u001b[39mreturn\u001b[39;00m response\n",
      "File \u001b[1;32m~\\AppData\\Local\\Packages\\PythonSoftwareFoundation.Python.3.10_qbz5n2kfra8p0\\LocalCache\\local-packages\\Python310\\site-packages\\selenium\\webdriver\\remote\\errorhandler.py:245\u001b[0m, in \u001b[0;36mErrorHandler.check_response\u001b[1;34m(self, response)\u001b[0m\n\u001b[0;32m    243\u001b[0m         alert_text \u001b[39m=\u001b[39m value[\u001b[39m\"\u001b[39m\u001b[39malert\u001b[39m\u001b[39m\"\u001b[39m]\u001b[39m.\u001b[39mget(\u001b[39m\"\u001b[39m\u001b[39mtext\u001b[39m\u001b[39m\"\u001b[39m)\n\u001b[0;32m    244\u001b[0m     \u001b[39mraise\u001b[39;00m exception_class(message, screen, stacktrace, alert_text)  \u001b[39m# type: ignore[call-arg]  # mypy is not smart enough here\u001b[39;00m\n\u001b[1;32m--> 245\u001b[0m \u001b[39mraise\u001b[39;00m exception_class(message, screen, stacktrace)\n",
      "\u001b[1;31mNoSuchElementException\u001b[0m: Message: no such element: Unable to locate element: {\"method\":\"xpath\",\"selector\":\"/html/body/div[1]/div/div/div[5]/div/footer/div[1]/div/span[2]/div/div[2]/div[1]/div/div/p/span\"}\n  (Session info: chrome=111.0.5563.147)\nStacktrace:\nBacktrace:\n\t(No symbol) [0x006DDCE3]\n\t(No symbol) [0x006739D1]\n\t(No symbol) [0x00584DA8]\n\t(No symbol) [0x005B019F]\n\t(No symbol) [0x005B03AB]\n\t(No symbol) [0x005DEE62]\n\t(No symbol) [0x005CAF14]\n\t(No symbol) [0x005DD57C]\n\t(No symbol) [0x005CACC6]\n\t(No symbol) [0x005A6F68]\n\t(No symbol) [0x005A80CD]\n\tGetHandleVerifier [0x00953832+2506274]\n\tGetHandleVerifier [0x00989794+2727300]\n\tGetHandleVerifier [0x0098E36C+2746716]\n\tGetHandleVerifier [0x00786690+617600]\n\t(No symbol) [0x0067C712]\n\t(No symbol) [0x00681FF8]\n\t(No symbol) [0x006820DB]\n\t(No symbol) [0x0068C63B]\n\tBaseThreadInitThunk [0x76346BD9+25]\n\tRtlGetFullPathName_UEx [0x77778FD2+1218]\n\tRtlGetFullPathName_UEx [0x77778F9D+1165]\n"
     ]
    }
   ],
   "source": [
    "contatos_df = pd.read_excel(\"ex.xlsx\") #definir contatos_df como tabela\n",
    "from selenium import webdriver #Abrir navegador\n",
    "from selenium.webdriver.common.keys import Keys #Selecionar elementos do navegador, enviar as mensagens\n",
    "from selenium.webdriver.common.by import By\n",
    "from selenium.webdriver.support.ui import WebDriverWait\n",
    "from selenium.webdriver.support import expected_conditions as EC\n",
    "import time\n",
    "import urllib\n",
    "\n",
    "\n",
    "navegador = webdriver.Chrome() #Criar um navegador\n",
    "navegador.get(\"https://web.whatsapp.com/\")\n",
    "\n",
    "while len(navegador.find_elements(By.ID, 'side')) < 1:  #espera aparecer o elemento que tem id de \"side\"\n",
    "    time.sleep(1) #esperar pag carregar\n",
    "\n",
    "#ja estamos com o login feito no wats web\n",
    "for i, mensagen in enumerate(contatos_df['mensagen']):\n",
    "    nome = contatos_df.loc[i, \"nome\"] #defininindo valor da id pessoa\n",
    "    numero = contatos_df.loc[i, \"numero\"] #defininfo valor id numero\n",
    "    texto = urllib.parse.quote(f\"Oi {nome}! {mensagen}\") #mensagem que vai ser enviada\n",
    "    link = f\"https://web.whatsapp.com/send?phone={numero}&text={texto}\" # link enviar mensagem\n",
    "    navegador.get(link) #entrar na conversa\n",
    "    while len(navegador.find_elements(By.ID, 'side')) < 1:\n",
    "        time.sleep(1) \n",
    "    navegador.find_element(By.XPATH, '//*[@id=\"main\"]/footer/div[1]/div/span[2]/div/div[2]/div[1]/div/div/p/span').send_keys(Keys.ENTER)\n",
    "    time.sleep(10)\n",
    "    "
   ]
  }
 ],
 "metadata": {
  "kernelspec": {
   "display_name": "Python 3",
   "language": "python",
   "name": "python3"
  },
  "language_info": {
   "codemirror_mode": {
    "name": "ipython",
    "version": 3
   },
   "file_extension": ".py",
   "mimetype": "text/x-python",
   "name": "python",
   "nbconvert_exporter": "python",
   "pygments_lexer": "ipython3",
   "version": "3.10.10"
  },
  "orig_nbformat": 4,
  "vscode": {
   "interpreter": {
    "hash": "0e0f52d259b9ded992410736222679d5d2adc32b4efa7d45d1056db081950c34"
   }
  }
 },
 "nbformat": 4,
 "nbformat_minor": 2
}
