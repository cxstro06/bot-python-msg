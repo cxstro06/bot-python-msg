{
 "cells": [
  {
   "cell_type": "code",
   "execution_count": null,
   "metadata": {},
   "outputs": [],
   "source": [
    "\n",
    "import pandas as pd #importar a biblioteca pandas\n",
    "contatos_df = pd.read_excel(\"ex.xlsx\") #definir contatos_df como tabela\n",
    "display(contatos_df) #mostrar tabela"
   ]
  },
  {
   "cell_type": "code",
   "execution_count": null,
   "metadata": {},
   "outputs": [],
   "source": [
    "contatos_df = pd.read_excel(\"ex.xlsx\") #definir contatos_df como tabela\n",
    "from selenium import webdriver #Abrir navegador\n",
    "from selenium.webdriver.common.keys import Keys #Selecionar elementos do navegador, enviar as mensagens\n",
    "from selenium.webdriver.common.by import By #usado para pegar as classes,id,name, xpath etc\n",
    "from selenium.webdriver.support.ui import WebDriverWait #usado para que o programa um determinado elemnto apareça\n",
    "from selenium.webdriver.support import expected_conditions as EC #usado com Webdriverwait\n",
    "from selenium.common.exceptions import TimeoutException #exção usada quando o webdriverwait excede o tempo\n",
    "import time #tempo\n",
    "import random #numeros aleatorios\n",
    "import urllib\n",
    "\n",
    "navegador = webdriver.Chrome() #Criar um navegador\n",
    "navegador.get(\"https://web.whatsapp.com/\")\n",
    "\n",
    "while len(navegador.find_elements(By.ID, 'side')) < 1:  #espera aparecer o elemento que tem id de \"side\"\n",
    "    time.sleep(1) #esperar pag carregar\n",
    "\n",
    "#ja estamos com o login feito no wats web\n",
    "for i, mensagem in enumerate(contatos_df['mensagen']):\n",
    "    try:\n",
    "        nome = contatos_df.loc[i, \"nome\"] #pega o nome na tabela\n",
    "        numero = contatos_df.loc[i, \"numero\"] #pega o numero na tabela\n",
    "        texto = urllib.parse.quote(f\"Oi {nome}! {mensagem}\") #mensgagem que vai ser envida já com os dados\n",
    "        link = f\"https://web.whatsapp.com/send?phone={numero}&text={texto}\"\n",
    "        navegador.get(link) #gera  o link de mensagem\n",
    "        \n",
    "        WebDriverWait(navegador, 20).until(EC.presence_of_element_located((By.ID, 'main'))) #espera até 20 segundos o 'main' aparecer\n",
    "        \n",
    "        campo_de_texto = navegador.find_element(By.XPATH, '//*[@id=\"main\"]/footer/div[1]/div/span[2]/div/div[2]/div[1]/div/div/p/span') #busca a barra de enviar a msg\n",
    "        campo_de_texto.send_keys(Keys.ENTER) #envia a msg\n",
    "        print(f'Mensagem enviada para {nome} ({numero})') #diz para quem a mensagem foi enviada no console\n",
    "        tempo_espera = random.randint(10,30) #criando um numero aleatorio de 10 a 30\n",
    "        time.sleep(tempo_espera) # espera de 10 a 30 segundos antes de enviar a próxima mensagem\n",
    "    except TimeoutException:\n",
    "        print(f'Erro: Tempo limite de espera excedido para {nome} ({numero})') #diz que o tempo de webdriverwait foi excedido  \n",
    "        \n",
    "    "
   ]
  }
 ],
 "metadata": {
  "kernelspec": {
   "display_name": "Python 3",
   "language": "python",
   "name": "python3"
  },
  "language_info": {
   "codemirror_mode": {
    "name": "ipython",
    "version": 3
   },
   "file_extension": ".py",
   "mimetype": "text/x-python",
   "name": "python",
   "nbconvert_exporter": "python",
   "pygments_lexer": "ipython3",
   "version": "3.10.10"
  },
  "orig_nbformat": 4,
  "vscode": {
   "interpreter": {
    "hash": "0e0f52d259b9ded992410736222679d5d2adc32b4efa7d45d1056db081950c34"
   }
  }
 },
 "nbformat": 4,
 "nbformat_minor": 2
}
